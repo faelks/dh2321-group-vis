{
 "metadata": {
  "language_info": {
   "codemirror_mode": {
    "name": "ipython",
    "version": 3
   },
   "file_extension": ".py",
   "mimetype": "text/x-python",
   "name": "python",
   "nbconvert_exporter": "python",
   "pygments_lexer": "ipython3",
   "version": "3.8.2-final"
  },
  "orig_nbformat": 2,
  "kernelspec": {
   "name": "python3",
   "display_name": "Python 3.8.2 64-bit",
   "metadata": {
    "interpreter": {
     "hash": "20bf69066c0dd38d51965b69d5e1b6e387082e3198ba56e97997ac55f4e50ad0"
    }
   }
  }
 },
 "nbformat": 4,
 "nbformat_minor": 2,
 "cells": [
  {
   "source": [
    "import pandas as pd\n",
    "import numpy as np\n",
    "from hobby_cat import get_hobby_category\n",
    "from in_5_year_cat import get_plan_category\n",
    "from kth_canvas_usage_quantify import get_canvas_usage_category\n",
    "\n",
    "df = pd.DataFrame(pd.read_excel(\"selfIntro.xlsx\"))\n",
    "col_name = [\"alias\", \"major\", \"degree\", \"hobbies\",\n",
    "    \"kth_canvas_usage\", \"kth_social_usage\", \"facebook_usage\",\n",
    "    \"course_expectations\", \"info_vis_skill\", \"stats_skill\",\n",
    "    \"maths_skill\", \"drawing_skill\", \"computer_skill\",\n",
    "    \"programming_skill\", \"cg_skill\",\n",
    "    \"hci_skill\", \"user_experience_skill\", \n",
    "    \"communication_skill\", \"collaboration_skill\",\n",
    "    \"code_repository_skill\", \"in_5_years\"]\n",
    "assert(len(col_name) == len(df.columns))\n",
    "df.columns = col_name\n",
    "\n",
    "df['hobbies'] = df['hobbies'].replace(np.nan, None)\n",
    "df['hobbies'] = df['hobbies'].apply(lambda x: get_hobby_category(x))\n",
    "\n",
    "df['in_5_years'] = df['in_5_years'].replace(np.nan, None)\n",
    "df['in_5_years'] = df['in_5_years'].apply(lambda x: get_plan_category(x))\n",
    "\n",
    "df['kth_canvas_usage'] = df['kth_canvas_usage'].replace(np.nan, None)\n",
    "df['kth_canvas_usage'] = df['kth_canvas_usage'].apply(lambda x:get_canvas_usage_category(x))\n",
    "\n",
    "df"
   ],
   "cell_type": "code",
   "metadata": {},
   "execution_count": 2,
   "outputs": [
    {
     "output_type": "error",
     "ename": "SyntaxError",
     "evalue": "invalid syntax (<ipython-input-2-c1ea076eb1ff>, line 5)",
     "traceback": [
      "\u001b[0;36m  File \u001b[0;32m\"<ipython-input-2-c1ea076eb1ff>\"\u001b[0;36m, line \u001b[0;32m5\u001b[0m\n\u001b[0;31m    from kth_canvas_usage_cat copy import get_canvas_usage_category\u001b[0m\n\u001b[0m                              ^\u001b[0m\n\u001b[0;31mSyntaxError\u001b[0m\u001b[0;31m:\u001b[0m invalid syntax\n"
     ]
    }
   ]
  },
  {
   "source": [
    "a = 'asdAA'\n",
    "a.lower()\n"
   ],
   "cell_type": "code",
   "metadata": {},
   "execution_count": 19,
   "outputs": [
    {
     "output_type": "execute_result",
     "data": {
      "text/plain": [
       "'asdaa'"
      ]
     },
     "metadata": {},
     "execution_count": 19
    }
   ]
  }
 ]
}