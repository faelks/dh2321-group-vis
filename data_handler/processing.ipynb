{
 "cells": [
  {
   "cell_type": "code",
   "execution_count": 2,
   "metadata": {},
   "outputs": [],
   "source": [
    "import pandas as pd\n",
    "import numpy as np\n",
    "from major_cat import get_major_category, get_major_category_name\n",
    "from degree_cat import get_degree_category\n",
    "from hobby_cat import get_hobby_category\n",
    "from in_5_year_cat import get_plan_category\n",
    "from kth_canvas_usage_quantify import get_canvas_usage_number\n",
    "from kth_social_usage_quantify import get_social_usage_number\n",
    "from facebook_usage_quantify import get_facebook_usage_number"
   ]
  },
  {
   "cell_type": "code",
   "execution_count": 3,
   "metadata": {},
   "outputs": [],
   "source": [
    "df = pd.DataFrame(pd.read_excel(\"selfIntro.xlsx\"))\n",
    "col_name = [\"alias\", \"major\", \"degree\", \"hobbies\",\n",
    "    \"kth_canvas_usage\", \"kth_social_usage\", \"facebook_usage\",\n",
    "    \"course_expectations\", \"info_vis_skill\", \"stats_skill\",\n",
    "    \"maths_skill\", \"drawing_skill\", \"computer_skill\",\n",
    "    \"programming_skill\", \"cg_skill\",\n",
    "    \"hci_skill\", \"user_experience_skill\", \n",
    "    \"communication_skill\", \"collaboration_skill\",\n",
    "    \"code_repository_skill\", \"in_5_years\"]\n",
    "assert(len(col_name) == len(df.columns))\n",
    "df.columns = col_name"
   ]
  },
  {
   "cell_type": "code",
   "execution_count": 4,
   "metadata": {},
   "outputs": [],
   "source": [
    "df['major'] = df['major'].replace(np.nan, None)\n",
    "# df['major'] = df['major'].apply(lambda x: get_major_category(x))\n",
    "df['major'] = df['major'].apply(lambda x: get_major_category_name(x))\n",
    "\n",
    "df['kth_canvas_usage'] = df['kth_canvas_usage'].replace(np.nan, None)\n",
    "df['kth_canvas_usage'] = df['kth_canvas_usage'].apply(lambda x:get_canvas_usage_number(x))\n",
    "\n",
    "df['kth_social_usage'] = df['kth_social_usage'].replace(np.nan, None)\n",
    "df['kth_social_usage'] = df['kth_social_usage'].apply(lambda x:get_social_usage_number(x))\n",
    "\n",
    "df['facebook_usage'] = df['facebook_usage'].replace(np.nan, None)\n",
    "df['facebook_usage'] = df['facebook_usage'].apply(lambda x:get_facebook_usage_number(x))"
   ]
  },
  {
   "cell_type": "code",
   "execution_count": 5,
   "metadata": {},
   "outputs": [],
   "source": [
    "df['degree'] = df['degree'].replace(np.nan, None)\n",
    "df['degree'] = df['degree'].apply(lambda x: get_degree_category(x))\n",
    "\n",
    "df['hobbies'] = df['hobbies'].replace(np.nan, None)\n",
    "df['hobbies'] = df['hobbies'].apply(lambda x: get_hobby_category(x))\n",
    "\n",
    "df['in_5_years'] = df['in_5_years'].replace(np.nan, None)\n",
    "df['in_5_years'] = df['in_5_years'].apply(lambda x: get_plan_category(x))"
   ]
  },
  {
   "cell_type": "code",
   "execution_count": 6,
   "metadata": {},
   "outputs": [],
   "source": [
    "\n",
    "# info_vis (designing charts, working with data, presenting)\n",
    "# drawing (design, artistic)\n",
    "# human computer interaction (design, usability, technical)\n",
    "# user_experience (design, usability)\n",
    "design_skills = df[['info_vis_skill', 'drawing_skill', 'hci_skill', 'user_experience_skill']]\n",
    "df['design_skill'] = np.average(design_skills, axis=1)\n",
    "df['design_skill_diff'] = np.average(design_skills, axis=1) - np.average(design_skills)\n",
    "\n",
    "# stats (statistics, math heavy)\n",
    "# maths (maths)\n",
    "# computer (technical)\n",
    "# programming (technical)\n",
    "# computer_graphics (technical)\n",
    "# code repository (technical)\n",
    "technical_skills = df[['stats_skill', 'maths_skill','computer_skill', 'programming_skill', 'cg_skill','code_repository_skill']]\n",
    "df['technical_skill'] = np.average(technical_skills, axis=1)\n",
    "df['technical_skill_diff'] = np.average(technical_skills, axis=1) - np.average(technical_skills)\n",
    "\n",
    "# communication (soft skill, teamwork)\n",
    "# collaboration (soft skill, teamwork)\n",
    "teamwork_skills = df[['communication_skill', 'collaboration_skill']]\n",
    "df['teamwork_skill'] = np.average(teamwork_skills, axis=1)\n",
    "df['teamwork_skill_diff'] = np.average(teamwork_skills, axis=1) - np.average(teamwork_skills)"
   ]
  },
  {
   "cell_type": "code",
   "execution_count": 7,
   "metadata": {},
   "outputs": [],
   "source": [
    "df_wo_arr = df.drop(columns=[\"major\", \"degree\", \"hobbies\", \n",
    "    \"course_expectations\", \"in_5_years\"])\n",
    "df_wo_arr = df_wo_arr.drop(columns=[\"facebook_usage\", \n",
    "    \"kth_social_usage\", \"kth_canvas_usage\"])\n",
    "df_wo_arr = df_wo_arr.drop(columns=[\"teamwork_skill_diff\",      \"technical_skill_diff\", \"design_skill_diff\"])\n",
    "df_wo_arr.to_csv(\"data_simplified.csv\", index=False)"
   ]
  },
  {
   "cell_type": "code",
   "execution_count": 10,
   "metadata": {},
   "outputs": [],
   "source": [
    "df.index = df['alias']\n",
    "df_json = df.drop(columns=['degree', 'hobbies', 'in_5_years'])\n",
    "df_json.to_json(\"data_simplified.json\", orient=\"records\")"
   ]
  },
  {
   "cell_type": "code",
   "execution_count": 8,
   "metadata": {},
   "outputs": [],
   "source": [
    "df_wo_arr.index = df['alias']\n",
    "df_wo_arr.mean().to_json(\"average.json\")\n"
   ]
  },
  {
   "cell_type": "code",
   "execution_count": null,
   "metadata": {},
   "outputs": [],
   "source": []
  }
 ],
 "metadata": {
  "kernelspec": {
   "display_name": "Python 3",
   "language": "python",
   "name": "python3"
  },
  "language_info": {
   "codemirror_mode": {
    "name": "ipython",
    "version": 3
   },
   "file_extension": ".py",
   "mimetype": "text/x-python",
   "name": "python",
   "nbconvert_exporter": "python",
   "pygments_lexer": "ipython3",
   "version": "3.8.5-final"
  }
 },
 "nbformat": 4,
 "nbformat_minor": 2
}